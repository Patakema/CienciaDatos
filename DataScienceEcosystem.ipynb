{
 "cells": [
  {
   "cell_type": "markdown",
   "id": "c53a4642-85a9-4f84-9570-e4b26caf80f8",
   "metadata": {},
   "source": [
    "# Data Science Tools and Ecosystem"
   ]
  },
  {
   "cell_type": "markdown",
   "id": "533ed5c2-40f7-4d7c-92d5-23190b9bf79b",
   "metadata": {},
   "source": [
    "En este cuaderno, se resumen las herramientas y ecosistemas de ciencia de datos."
   ]
  },
  {
   "cell_type": "markdown",
   "id": "5bb583fe-affe-46da-ab7b-8e98084791c5",
   "metadata": {},
   "source": [
    "lgunos de los lenguajes populares que utilizan los científicos de datos son:\n",
    "\n",
    "1. Python  \n",
    "2. R  \n",
    "3. SQL  \n",
    "4. Julia"
   ]
  },
  {
   "cell_type": "markdown",
   "id": "fe43a0f7-de91-4cad-8a75-19a712a2843f",
   "metadata": {},
   "source": [
    "Algunas de las bibliotecas comúnmente utilizadas por los científicos de datos incluyen:\n",
    "\n",
    "1. Pandas  \n",
    "2. NumPy  \n",
    "3. Matplotlib  \n",
    "4. Scikit-learn"
   ]
  },
  {
   "cell_type": "markdown",
   "id": "9a582f6e-b22f-4deb-9159-c3798d88dc33",
   "metadata": {},
   "source": [
    "| Herramientas de Ciencia de Datos |\n",
    "| -------------------------------- |\n",
    "| JupyterLab                       |\n",
    "| RStudio                          |\n",
    "| Apache Zeppelin                  |"
   ]
  },
  {
   "cell_type": "markdown",
   "id": "399a613e-02b2-4b94-b4d4-2ae40fe12fff",
   "metadata": {},
   "source": [
    "### A continuación, se presentan algunos ejemplos de evaluación de expresiones aritméticas en Python."
   ]
  },
  {
   "cell_type": "code",
   "execution_count": 1,
   "id": "b91b1279-e1f2-4847-b6d4-c24e852118c8",
   "metadata": {},
   "outputs": [
    {
     "data": {
      "text/plain": [
       "17"
      ]
     },
     "execution_count": 1,
     "metadata": {},
     "output_type": "execute_result"
    }
   ],
   "source": [
    "# Esta es una expresión aritmética simple para multiplicar y luego sumar enteros\n",
    "(3 * 4) + 5"
   ]
  },
  {
   "cell_type": "code",
   "execution_count": 2,
   "id": "68519379-797e-4dd3-add1-d0d9e5aa69e9",
   "metadata": {},
   "outputs": [
    {
     "data": {
      "text/plain": [
       "3.3333333333333335"
      ]
     },
     "execution_count": 2,
     "metadata": {},
     "output_type": "execute_result"
    }
   ],
   "source": [
    "# Esto convertirá 200 minutos a horas dividiendo por 60\n",
    "200 / 60"
   ]
  },
  {
   "cell_type": "markdown",
   "id": "a4c8fb3d-02a8-43e3-8412-852ec95c6f85",
   "metadata": {},
   "source": [
    "**Objetivos:**\n",
    "\n",
    "- Listar lenguajes populares para Ciencia de Datos  \n",
    "- Identificar bibliotecas usadas en Ciencia de Datos  \n",
    "- Crear tablas usando Markdown  \n",
    "- Ejecutar expresiones aritméticas básicas  \n",
    "- Convertir unidades (minutos a horas)"
   ]
  },
  {
   "cell_type": "markdown",
   "id": "faea8cf2-866e-4691-997b-4f33668e642e",
   "metadata": {},
   "source": [
    "## Autor\n",
    "\n",
    "Hugo Patarroyo\n"
   ]
  },
  {
   "cell_type": "code",
   "execution_count": null,
   "id": "5ad1f3f8-89cd-43b1-891b-2030db51ce26",
   "metadata": {},
   "outputs": [],
   "source": []
  }
 ],
 "metadata": {
  "kernelspec": {
   "display_name": "Python 3 (ipykernel)",
   "language": "python",
   "name": "python3"
  },
  "language_info": {
   "codemirror_mode": {
    "name": "ipython",
    "version": 3
   },
   "file_extension": ".py",
   "mimetype": "text/x-python",
   "name": "python",
   "nbconvert_exporter": "python",
   "pygments_lexer": "ipython3",
   "version": "3.10.8"
  }
 },
 "nbformat": 4,
 "nbformat_minor": 5
}
